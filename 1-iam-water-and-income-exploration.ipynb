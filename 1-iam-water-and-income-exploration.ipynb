{
 "cells": [
  {
   "cell_type": "markdown",
   "id": "5b455839",
   "metadata": {},
   "source": [
    "# Water and Income\n",
    "\n",
    "Among the many environmental challenges that the world faces, one of the most significant is water. Essential to all forms of life and in many industrial processes, in many areas of the world water is scarce and valuable. Worse, many sources of water are either slow to regenerate compared to human demands, are threatened by climate change or other environmental changes, or require expensive and complex infrastructure to extract and use. Therefore, a better understanding of water demand and water usage is essential to ensuring the continuing well-being of people around the world and the economic stability and viability of many countries.\n",
    "\n",
    "In this work, I aim to understand the relationship between per-capita water usage and per-capita income in a range of countries around the world, using the World Bank's World Development Indicators dataset. My goal, in particular, is to understand the correlation or relationship between per-capita water usage and per-capita income--does water usage increase with income? Or maybe it decreases? Or perhaps it increases up to a point and then decreases? My expectation is that this last scenario is correct--that is, that at very low per-capita income levels water usage is low, due to the lack of water supply and sewage infrastructure, at moderate per-capita income levels it is high due to the construction of such infrastructure and resulting increases in demand for water-consuming services, and at high per-capita income levels it is lower (but still much higher than at low incomes) due to saturation of demand for water-consuming services and a resulting focus on efficiency in water supply and consumption over expanded usage.\n",
    "\n",
    "While this analysis cannot resolve whether these proposed explanations for the trend are correct, it can resolve whether the trend itself exists, and determining that is what I am setting out to do in this project."
   ]
  },
  {
   "cell_type": "code",
   "execution_count": 1,
   "id": "7d025f92",
   "metadata": {},
   "outputs": [],
   "source": [
    "# Begin by importing critical libraries\n",
    "\n",
    "import numpy as np\n",
    "import pandas as pd\n",
    "import matplotlib.pyplot as plt\n",
    "import seaborn as sns"
   ]
  },
  {
   "cell_type": "markdown",
   "id": "77d245da",
   "metadata": {},
   "source": [
    "The World Development Indicators dataset, found at https://www.kaggle.com/kaggle/world-development-indicators, is a highly complex dataset split into several portions. Most of the datafiles provided in the dataset are explanatory files that have descriptions of the various country codes used, information about the indicator codes used to describe different observations, and other information. The actual indicators are stored in the file indicators.csv, which is the only one that I will actually load in this notebook; for the others I will incorporate any information relevant to this analysis (for example, which codes are important for the anlaysis) into this notebook's explanatory text on an as-needed basis."
   ]
  },
  {
   "cell_type": "code",
   "execution_count": 2,
   "id": "896da09c",
   "metadata": {},
   "outputs": [
    {
     "data": {
      "text/html": [
       "<div>\n",
       "<style scoped>\n",
       "    .dataframe tbody tr th:only-of-type {\n",
       "        vertical-align: middle;\n",
       "    }\n",
       "\n",
       "    .dataframe tbody tr th {\n",
       "        vertical-align: top;\n",
       "    }\n",
       "\n",
       "    .dataframe thead th {\n",
       "        text-align: right;\n",
       "    }\n",
       "</style>\n",
       "<table border=\"1\" class=\"dataframe\">\n",
       "  <thead>\n",
       "    <tr style=\"text-align: right;\">\n",
       "      <th></th>\n",
       "      <th>CountryName</th>\n",
       "      <th>CountryCode</th>\n",
       "      <th>IndicatorName</th>\n",
       "      <th>IndicatorCode</th>\n",
       "      <th>Year</th>\n",
       "      <th>Value</th>\n",
       "    </tr>\n",
       "  </thead>\n",
       "  <tbody>\n",
       "    <tr>\n",
       "      <th>0</th>\n",
       "      <td>Arab World</td>\n",
       "      <td>ARB</td>\n",
       "      <td>Adolescent fertility rate (births per 1,000 wo...</td>\n",
       "      <td>SP.ADO.TFRT</td>\n",
       "      <td>1960</td>\n",
       "      <td>1.335609e+02</td>\n",
       "    </tr>\n",
       "    <tr>\n",
       "      <th>1</th>\n",
       "      <td>Arab World</td>\n",
       "      <td>ARB</td>\n",
       "      <td>Age dependency ratio (% of working-age populat...</td>\n",
       "      <td>SP.POP.DPND</td>\n",
       "      <td>1960</td>\n",
       "      <td>8.779760e+01</td>\n",
       "    </tr>\n",
       "    <tr>\n",
       "      <th>2</th>\n",
       "      <td>Arab World</td>\n",
       "      <td>ARB</td>\n",
       "      <td>Age dependency ratio, old (% of working-age po...</td>\n",
       "      <td>SP.POP.DPND.OL</td>\n",
       "      <td>1960</td>\n",
       "      <td>6.634579e+00</td>\n",
       "    </tr>\n",
       "    <tr>\n",
       "      <th>3</th>\n",
       "      <td>Arab World</td>\n",
       "      <td>ARB</td>\n",
       "      <td>Age dependency ratio, young (% of working-age ...</td>\n",
       "      <td>SP.POP.DPND.YG</td>\n",
       "      <td>1960</td>\n",
       "      <td>8.102333e+01</td>\n",
       "    </tr>\n",
       "    <tr>\n",
       "      <th>4</th>\n",
       "      <td>Arab World</td>\n",
       "      <td>ARB</td>\n",
       "      <td>Arms exports (SIPRI trend indicator values)</td>\n",
       "      <td>MS.MIL.XPRT.KD</td>\n",
       "      <td>1960</td>\n",
       "      <td>3.000000e+06</td>\n",
       "    </tr>\n",
       "  </tbody>\n",
       "</table>\n",
       "</div>"
      ],
      "text/plain": [
       "  CountryName CountryCode                                      IndicatorName  \\\n",
       "0  Arab World         ARB  Adolescent fertility rate (births per 1,000 wo...   \n",
       "1  Arab World         ARB  Age dependency ratio (% of working-age populat...   \n",
       "2  Arab World         ARB  Age dependency ratio, old (% of working-age po...   \n",
       "3  Arab World         ARB  Age dependency ratio, young (% of working-age ...   \n",
       "4  Arab World         ARB        Arms exports (SIPRI trend indicator values)   \n",
       "\n",
       "    IndicatorCode  Year         Value  \n",
       "0     SP.ADO.TFRT  1960  1.335609e+02  \n",
       "1     SP.POP.DPND  1960  8.779760e+01  \n",
       "2  SP.POP.DPND.OL  1960  6.634579e+00  \n",
       "3  SP.POP.DPND.YG  1960  8.102333e+01  \n",
       "4  MS.MIL.XPRT.KD  1960  3.000000e+06  "
      ]
     },
     "execution_count": 2,
     "metadata": {},
     "output_type": "execute_result"
    }
   ],
   "source": [
    "# Edit this to point towards your copy of the dataset\n",
    "raw_indicators = pd.read_csv('../data/raw/Indicators.csv')\n",
    "\n",
    "raw_indicators.head()"
   ]
  },
  {
   "cell_type": "code",
   "execution_count": 3,
   "id": "174f09c5",
   "metadata": {},
   "outputs": [
    {
     "name": "stdout",
     "output_type": "stream",
     "text": [
      "<class 'pandas.core.frame.DataFrame'>\n",
      "RangeIndex: 5656458 entries, 0 to 5656457\n",
      "Data columns (total 6 columns):\n",
      " #   Column         Dtype  \n",
      "---  ------         -----  \n",
      " 0   CountryName    object \n",
      " 1   CountryCode    object \n",
      " 2   IndicatorName  object \n",
      " 3   IndicatorCode  object \n",
      " 4   Year           int64  \n",
      " 5   Value          float64\n",
      "dtypes: float64(1), int64(1), object(4)\n",
      "memory usage: 258.9+ MB\n"
     ]
    }
   ],
   "source": [
    "raw_indicators.info()"
   ]
  },
  {
   "cell_type": "markdown",
   "id": "da000ccb",
   "metadata": {},
   "source": [
    "A brief perusal shows that this is a rather large file with much information that isn't relevant to the analysis. The relevant indicators for this analysis are ER.H2O.FWTL.K3, measuring annual freshwater withdrawals (thus consumption) in billions of cubic meters (or cubic kilometers); SL.GDP.PCAP.EM.KD, GDP per person employed in 1990 dollars; SI.SPR.PCAP, survey mean-consumption per capita in 2011 dollars per day; and SP.POP.TOTL, the total population. The Series file provides cautions about the reliability and comparability of most of these indicators, however as there are no alternatives I will forge ahead regardless. Nevertheless, this analysis should be taken as preliminary at best and only reliable insofar as it can definitively rule out the relationship between income and water consumption proposed above.\n",
    "\n",
    "Since I do not care about the other rows in the dataframe, I will create a reduced dataframe that only has the data of interest for this analysis. This will require much less memory and simplify further work."
   ]
  },
  {
   "cell_type": "code",
   "execution_count": 4,
   "id": "466600ca",
   "metadata": {
    "scrolled": false
   },
   "outputs": [
    {
     "data": {
      "text/html": [
       "<div>\n",
       "<style scoped>\n",
       "    .dataframe tbody tr th:only-of-type {\n",
       "        vertical-align: middle;\n",
       "    }\n",
       "\n",
       "    .dataframe tbody tr th {\n",
       "        vertical-align: top;\n",
       "    }\n",
       "\n",
       "    .dataframe thead th {\n",
       "        text-align: right;\n",
       "    }\n",
       "</style>\n",
       "<table border=\"1\" class=\"dataframe\">\n",
       "  <thead>\n",
       "    <tr style=\"text-align: right;\">\n",
       "      <th></th>\n",
       "      <th>CountryName</th>\n",
       "      <th>CountryCode</th>\n",
       "      <th>IndicatorName</th>\n",
       "      <th>IndicatorCode</th>\n",
       "      <th>Year</th>\n",
       "      <th>Value</th>\n",
       "    </tr>\n",
       "  </thead>\n",
       "  <tbody>\n",
       "    <tr>\n",
       "      <th>73</th>\n",
       "      <td>Arab World</td>\n",
       "      <td>ARB</td>\n",
       "      <td>Population, total</td>\n",
       "      <td>SP.POP.TOTL</td>\n",
       "      <td>1960</td>\n",
       "      <td>9.249590e+07</td>\n",
       "    </tr>\n",
       "    <tr>\n",
       "      <th>150</th>\n",
       "      <td>Caribbean small states</td>\n",
       "      <td>CSS</td>\n",
       "      <td>Population, total</td>\n",
       "      <td>SP.POP.TOTL</td>\n",
       "      <td>1960</td>\n",
       "      <td>4.190810e+06</td>\n",
       "    </tr>\n",
       "    <tr>\n",
       "      <th>221</th>\n",
       "      <td>Central Europe and the Baltics</td>\n",
       "      <td>CEB</td>\n",
       "      <td>Population, total</td>\n",
       "      <td>SP.POP.TOTL</td>\n",
       "      <td>1960</td>\n",
       "      <td>9.140158e+07</td>\n",
       "    </tr>\n",
       "    <tr>\n",
       "      <th>341</th>\n",
       "      <td>East Asia &amp; Pacific (all income levels)</td>\n",
       "      <td>EAS</td>\n",
       "      <td>Population, total</td>\n",
       "      <td>SP.POP.TOTL</td>\n",
       "      <td>1960</td>\n",
       "      <td>1.042475e+09</td>\n",
       "    </tr>\n",
       "    <tr>\n",
       "      <th>462</th>\n",
       "      <td>East Asia &amp; Pacific (developing only)</td>\n",
       "      <td>EAP</td>\n",
       "      <td>Population, total</td>\n",
       "      <td>SP.POP.TOTL</td>\n",
       "      <td>1960</td>\n",
       "      <td>8.964930e+08</td>\n",
       "    </tr>\n",
       "  </tbody>\n",
       "</table>\n",
       "</div>"
      ],
      "text/plain": [
       "                                 CountryName CountryCode      IndicatorName  \\\n",
       "73                                Arab World         ARB  Population, total   \n",
       "150                   Caribbean small states         CSS  Population, total   \n",
       "221           Central Europe and the Baltics         CEB  Population, total   \n",
       "341  East Asia & Pacific (all income levels)         EAS  Population, total   \n",
       "462    East Asia & Pacific (developing only)         EAP  Population, total   \n",
       "\n",
       "    IndicatorCode  Year         Value  \n",
       "73    SP.POP.TOTL  1960  9.249590e+07  \n",
       "150   SP.POP.TOTL  1960  4.190810e+06  \n",
       "221   SP.POP.TOTL  1960  9.140158e+07  \n",
       "341   SP.POP.TOTL  1960  1.042475e+09  \n",
       "462   SP.POP.TOTL  1960  8.964930e+08  "
      ]
     },
     "execution_count": 4,
     "metadata": {},
     "output_type": "execute_result"
    }
   ],
   "source": [
    "analysis_codes = ['ER.H2O.FWTL.K3', 'SL.GDP.PCAP.EM.KD', 'SI.SPR.PCAP', 'SP.POP.TOTL']\n",
    "\n",
    "reduced_indicators = raw_indicators[raw_indicators['IndicatorCode'].isin(analysis_codes)]\n",
    "\n",
    "reduced_indicators.head()"
   ]
  },
  {
   "cell_type": "code",
   "execution_count": 5,
   "id": "44f1f5e4",
   "metadata": {},
   "outputs": [
    {
     "name": "stdout",
     "output_type": "stream",
     "text": [
      "<class 'pandas.core.frame.DataFrame'>\n",
      "Int64Index: 19265 entries, 73 to 5641524\n",
      "Data columns (total 6 columns):\n",
      " #   Column         Non-Null Count  Dtype  \n",
      "---  ------         --------------  -----  \n",
      " 0   CountryName    19265 non-null  object \n",
      " 1   CountryCode    19265 non-null  object \n",
      " 2   IndicatorName  19265 non-null  object \n",
      " 3   IndicatorCode  19265 non-null  object \n",
      " 4   Year           19265 non-null  int64  \n",
      " 5   Value          19265 non-null  float64\n",
      "dtypes: float64(1), int64(1), object(4)\n",
      "memory usage: 1.0+ MB\n"
     ]
    }
   ],
   "source": [
    "reduced_indicators.info()"
   ]
  },
  {
   "cell_type": "markdown",
   "id": "79612d45",
   "metadata": {},
   "source": [
    "While this succeeded in greatly reducing the number of rows and memory usage, as well as discarding much information of no relevance, the structure of this dataset is still not ideal for analysis. The most obvious issue, which can be seen just from looking at the rows printed above, is that many of the \"countries\" listed in the dataset are actually multinational regions such as the \"Arab World\" or \"East Asia and Pacific\". While potentially interesting to analyze regions as well as individual countries, these should clearly not be lumped together, at least not without care. A more subtle issue is that the data itself is stored in a messy and complex form that is difficult to use easily, with each row identifying a unique combination of country, year, and indicator. A more useful form would be for each row to identify a unique country and year, with the indicators instead being stored in individual columns. Finally, the columns \"CountryName\" and \"IndicatorName\" are redundant, as the values can be looked up outside of the dataframe (and in the case of \"IndicatorName\" have only a limited number of possible values anyway).\n",
    "\n",
    "Therefore, the next step is to tidy up this dataset. Dropping the redundant columns is easy and should come first:"
   ]
  },
  {
   "cell_type": "code",
   "execution_count": 6,
   "id": "3ec51b23",
   "metadata": {},
   "outputs": [
    {
     "name": "stdout",
     "output_type": "stream",
     "text": [
      "<class 'pandas.core.frame.DataFrame'>\n",
      "Int64Index: 19265 entries, 73 to 5641524\n",
      "Data columns (total 4 columns):\n",
      " #   Column         Non-Null Count  Dtype  \n",
      "---  ------         --------------  -----  \n",
      " 0   CountryCode    19265 non-null  object \n",
      " 1   IndicatorCode  19265 non-null  object \n",
      " 2   Year           19265 non-null  int64  \n",
      " 3   Value          19265 non-null  float64\n",
      "dtypes: float64(1), int64(1), object(2)\n",
      "memory usage: 752.5+ KB\n"
     ]
    }
   ],
   "source": [
    "reduced_indicators = reduced_indicators.drop(columns=['CountryName', 'IndicatorName'])\n",
    "\n",
    "reduced_indicators.info()"
   ]
  },
  {
   "cell_type": "markdown",
   "id": "238baa46",
   "metadata": {},
   "source": [
    "Next, the dataframe should be restructured so that each row represents a unique combination of year and country code, with the indicator values separated into one column per variable. This is most easily done by splitting the dataset into several dataframes, one per variable, then joining them back together using Pandas' built-in SQL-like methods:"
   ]
  },
  {
   "cell_type": "code",
   "execution_count": 7,
   "id": "ce929f10",
   "metadata": {},
   "outputs": [
    {
     "data": {
      "text/html": [
       "<div>\n",
       "<style scoped>\n",
       "    .dataframe tbody tr th:only-of-type {\n",
       "        vertical-align: middle;\n",
       "    }\n",
       "\n",
       "    .dataframe tbody tr th {\n",
       "        vertical-align: top;\n",
       "    }\n",
       "\n",
       "    .dataframe thead th {\n",
       "        text-align: right;\n",
       "    }\n",
       "</style>\n",
       "<table border=\"1\" class=\"dataframe\">\n",
       "  <thead>\n",
       "    <tr style=\"text-align: right;\">\n",
       "      <th></th>\n",
       "      <th>CountryCode</th>\n",
       "      <th>IndicatorCode_x_x</th>\n",
       "      <th>Year</th>\n",
       "      <th>freshwater_withdrawals_k3</th>\n",
       "      <th>IndicatorCode_y_x</th>\n",
       "      <th>per_employed_gdp_ppp_1990$</th>\n",
       "      <th>IndicatorCode_x_y</th>\n",
       "      <th>per_capita_consumption_2011$</th>\n",
       "      <th>IndicatorCode_y_y</th>\n",
       "      <th>total_population</th>\n",
       "    </tr>\n",
       "  </thead>\n",
       "  <tbody>\n",
       "    <tr>\n",
       "      <th>0</th>\n",
       "      <td>BRB</td>\n",
       "      <td>ER.H2O.FWTL.K3</td>\n",
       "      <td>1962</td>\n",
       "      <td>0.030</td>\n",
       "      <td>NaN</td>\n",
       "      <td>NaN</td>\n",
       "      <td>NaN</td>\n",
       "      <td>NaN</td>\n",
       "      <td>SP.POP.TOTL</td>\n",
       "      <td>232584.0</td>\n",
       "    </tr>\n",
       "    <tr>\n",
       "      <th>1</th>\n",
       "      <td>URY</td>\n",
       "      <td>ER.H2O.FWTL.K3</td>\n",
       "      <td>1967</td>\n",
       "      <td>0.650</td>\n",
       "      <td>NaN</td>\n",
       "      <td>NaN</td>\n",
       "      <td>NaN</td>\n",
       "      <td>NaN</td>\n",
       "      <td>SP.POP.TOTL</td>\n",
       "      <td>2750093.0</td>\n",
       "    </tr>\n",
       "    <tr>\n",
       "      <th>2</th>\n",
       "      <td>DZA</td>\n",
       "      <td>ER.H2O.FWTL.K3</td>\n",
       "      <td>1972</td>\n",
       "      <td>2.000</td>\n",
       "      <td>NaN</td>\n",
       "      <td>NaN</td>\n",
       "      <td>NaN</td>\n",
       "      <td>NaN</td>\n",
       "      <td>SP.POP.TOTL</td>\n",
       "      <td>15377095.0</td>\n",
       "    </tr>\n",
       "    <tr>\n",
       "      <th>3</th>\n",
       "      <td>GHA</td>\n",
       "      <td>ER.H2O.FWTL.K3</td>\n",
       "      <td>1972</td>\n",
       "      <td>0.300</td>\n",
       "      <td>NaN</td>\n",
       "      <td>NaN</td>\n",
       "      <td>NaN</td>\n",
       "      <td>NaN</td>\n",
       "      <td>SP.POP.TOTL</td>\n",
       "      <td>9083575.0</td>\n",
       "    </tr>\n",
       "    <tr>\n",
       "      <th>4</th>\n",
       "      <td>ISR</td>\n",
       "      <td>ER.H2O.FWTL.K3</td>\n",
       "      <td>1972</td>\n",
       "      <td>1.564</td>\n",
       "      <td>NaN</td>\n",
       "      <td>NaN</td>\n",
       "      <td>NaN</td>\n",
       "      <td>NaN</td>\n",
       "      <td>SP.POP.TOTL</td>\n",
       "      <td>3148000.0</td>\n",
       "    </tr>\n",
       "  </tbody>\n",
       "</table>\n",
       "</div>"
      ],
      "text/plain": [
       "  CountryCode IndicatorCode_x_x  Year  freshwater_withdrawals_k3  \\\n",
       "0         BRB    ER.H2O.FWTL.K3  1962                      0.030   \n",
       "1         URY    ER.H2O.FWTL.K3  1967                      0.650   \n",
       "2         DZA    ER.H2O.FWTL.K3  1972                      2.000   \n",
       "3         GHA    ER.H2O.FWTL.K3  1972                      0.300   \n",
       "4         ISR    ER.H2O.FWTL.K3  1972                      1.564   \n",
       "\n",
       "  IndicatorCode_y_x  per_employed_gdp_ppp_1990$ IndicatorCode_x_y  \\\n",
       "0               NaN                         NaN               NaN   \n",
       "1               NaN                         NaN               NaN   \n",
       "2               NaN                         NaN               NaN   \n",
       "3               NaN                         NaN               NaN   \n",
       "4               NaN                         NaN               NaN   \n",
       "\n",
       "   per_capita_consumption_2011$ IndicatorCode_y_y  total_population  \n",
       "0                           NaN       SP.POP.TOTL          232584.0  \n",
       "1                           NaN       SP.POP.TOTL         2750093.0  \n",
       "2                           NaN       SP.POP.TOTL        15377095.0  \n",
       "3                           NaN       SP.POP.TOTL         9083575.0  \n",
       "4                           NaN       SP.POP.TOTL         3148000.0  "
      ]
     },
     "execution_count": 7,
     "metadata": {},
     "output_type": "execute_result"
    }
   ],
   "source": [
    "water_dataset = reduced_indicators[reduced_indicators['IndicatorCode'] == 'ER.H2O.FWTL.K3']\n",
    "per_capita_gdp_dataset = reduced_indicators[reduced_indicators['IndicatorCode'] == 'SL.GDP.PCAP.EM.KD']\n",
    "per_capita_consumption_dataset = reduced_indicators[reduced_indicators['IndicatorCode'] == 'SI.SPR.PCAP']\n",
    "population_dataset = reduced_indicators[reduced_indicators['IndicatorCode'] == 'SP.POP.TOTL']\n",
    "\n",
    "water_gdp = water_dataset.merge(per_capita_gdp_dataset, on=['CountryCode', 'Year'], how='outer')\n",
    "water_gdp = water_gdp.rename(columns={'Value_x': 'freshwater_withdrawals_k3', 'Value_y': 'per_employed_gdp_ppp_1990$'})\n",
    "\n",
    "consumption_population = per_capita_consumption_dataset.merge(population_dataset, on=['CountryCode', 'Year'], how='outer')\n",
    "consumption_population = consumption_population.rename(columns={'Value_x': 'per_capita_consumption_2011$', 'Value_y': 'total_population'})\n",
    "\n",
    "wide_indicators = water_gdp.merge(consumption_population, on=['CountryCode', 'Year'], how='outer')\n",
    "wide_indicators.head()"
   ]
  },
  {
   "cell_type": "markdown",
   "id": "b077f314",
   "metadata": {},
   "source": [
    "There is now no use to keeping the IndicatorCode variables around, so those columns can additionally be dropped. Additionally, it would be more helpful to have the units of freshwater withdrawals in cubic meters than cubic kilometers, as this is more closely scaled to individual consumption levels:"
   ]
  },
  {
   "cell_type": "code",
   "execution_count": 8,
   "id": "009a3c4a",
   "metadata": {},
   "outputs": [
    {
     "data": {
      "text/html": [
       "<div>\n",
       "<style scoped>\n",
       "    .dataframe tbody tr th:only-of-type {\n",
       "        vertical-align: middle;\n",
       "    }\n",
       "\n",
       "    .dataframe tbody tr th {\n",
       "        vertical-align: top;\n",
       "    }\n",
       "\n",
       "    .dataframe thead th {\n",
       "        text-align: right;\n",
       "    }\n",
       "</style>\n",
       "<table border=\"1\" class=\"dataframe\">\n",
       "  <thead>\n",
       "    <tr style=\"text-align: right;\">\n",
       "      <th></th>\n",
       "      <th>CountryCode</th>\n",
       "      <th>Year</th>\n",
       "      <th>freshwater_withdrawals_m3</th>\n",
       "      <th>per_employed_gdp_ppp_1990$</th>\n",
       "      <th>per_capita_consumption_2011$</th>\n",
       "      <th>total_population</th>\n",
       "    </tr>\n",
       "  </thead>\n",
       "  <tbody>\n",
       "    <tr>\n",
       "      <th>0</th>\n",
       "      <td>BRB</td>\n",
       "      <td>1962</td>\n",
       "      <td>3.000000e+07</td>\n",
       "      <td>NaN</td>\n",
       "      <td>NaN</td>\n",
       "      <td>232584.0</td>\n",
       "    </tr>\n",
       "    <tr>\n",
       "      <th>1</th>\n",
       "      <td>URY</td>\n",
       "      <td>1967</td>\n",
       "      <td>6.500000e+08</td>\n",
       "      <td>NaN</td>\n",
       "      <td>NaN</td>\n",
       "      <td>2750093.0</td>\n",
       "    </tr>\n",
       "    <tr>\n",
       "      <th>2</th>\n",
       "      <td>DZA</td>\n",
       "      <td>1972</td>\n",
       "      <td>2.000000e+09</td>\n",
       "      <td>NaN</td>\n",
       "      <td>NaN</td>\n",
       "      <td>15377095.0</td>\n",
       "    </tr>\n",
       "    <tr>\n",
       "      <th>3</th>\n",
       "      <td>GHA</td>\n",
       "      <td>1972</td>\n",
       "      <td>3.000000e+08</td>\n",
       "      <td>NaN</td>\n",
       "      <td>NaN</td>\n",
       "      <td>9083575.0</td>\n",
       "    </tr>\n",
       "    <tr>\n",
       "      <th>4</th>\n",
       "      <td>ISR</td>\n",
       "      <td>1972</td>\n",
       "      <td>1.564000e+09</td>\n",
       "      <td>NaN</td>\n",
       "      <td>NaN</td>\n",
       "      <td>3148000.0</td>\n",
       "    </tr>\n",
       "  </tbody>\n",
       "</table>\n",
       "</div>"
      ],
      "text/plain": [
       "  CountryCode  Year  freshwater_withdrawals_m3  per_employed_gdp_ppp_1990$  \\\n",
       "0         BRB  1962               3.000000e+07                         NaN   \n",
       "1         URY  1967               6.500000e+08                         NaN   \n",
       "2         DZA  1972               2.000000e+09                         NaN   \n",
       "3         GHA  1972               3.000000e+08                         NaN   \n",
       "4         ISR  1972               1.564000e+09                         NaN   \n",
       "\n",
       "   per_capita_consumption_2011$  total_population  \n",
       "0                           NaN          232584.0  \n",
       "1                           NaN         2750093.0  \n",
       "2                           NaN        15377095.0  \n",
       "3                           NaN         9083575.0  \n",
       "4                           NaN         3148000.0  "
      ]
     },
     "execution_count": 8,
     "metadata": {},
     "output_type": "execute_result"
    }
   ],
   "source": [
    "wide_indicators = wide_indicators.drop(columns=['IndicatorCode_x_x', 'IndicatorCode_y_x', 'IndicatorCode_x_y', 'IndicatorCode_y_y'])\n",
    "\n",
    "wide_indicators['freshwater_withdrawals_k3'] = wide_indicators['freshwater_withdrawals_k3'] * 1e9 # 1 km3 = 1e9 m3\n",
    "wide_indicators = wide_indicators.rename(columns={'freshwater_withdrawals_k3': 'freshwater_withdrawals_m3'})\n",
    "\n",
    "wide_indicators.head()"
   ]
  },
  {
   "cell_type": "markdown",
   "id": "d454d3e7",
   "metadata": {},
   "source": [
    "It is obvious from the above that there are a number of country-year pairs that lack some part of the data of interest, which may mean that only a limited subset of country-year pairs are actually suitable for analysis. A few quick statistics on the rows with no null values for each variable may help clarify this."
   ]
  },
  {
   "cell_type": "code",
   "execution_count": 9,
   "id": "56e731a8",
   "metadata": {},
   "outputs": [
    {
     "name": "stdout",
     "output_type": "stream",
     "text": [
      "<class 'pandas.core.frame.DataFrame'>\n",
      "Int64Index: 13487 entries, 0 to 13486\n",
      "Data columns (total 6 columns):\n",
      " #   Column                        Non-Null Count  Dtype  \n",
      "---  ------                        --------------  -----  \n",
      " 0   CountryCode                   13487 non-null  object \n",
      " 1   Year                          13487 non-null  int64  \n",
      " 2   freshwater_withdrawals_m3     732 non-null    float64\n",
      " 3   per_employed_gdp_ppp_1990$    4881 non-null   float64\n",
      " 4   per_capita_consumption_2011$  168 non-null    float64\n",
      " 5   total_population              13484 non-null  float64\n",
      "dtypes: float64(4), int64(1), object(1)\n",
      "memory usage: 737.6+ KB\n"
     ]
    }
   ],
   "source": [
    "wide_indicators.info()"
   ]
  },
  {
   "cell_type": "code",
   "execution_count": 10,
   "id": "62040de0",
   "metadata": {},
   "outputs": [
    {
     "name": "stdout",
     "output_type": "stream",
     "text": [
      "1962      1\n",
      "1967      1\n",
      "1972      7\n",
      "1977     20\n",
      "1982     36\n",
      "1987     62\n",
      "1992     60\n",
      "1997     64\n",
      "2002    134\n",
      "2007     99\n",
      "2012     36\n",
      "2013    212\n",
      "Name: Year, dtype: int64\n"
     ]
    }
   ],
   "source": [
    "print(wide_indicators[wide_indicators['freshwater_withdrawals_m3'].notna()]['Year'].value_counts().sort_index())"
   ]
  },
  {
   "cell_type": "code",
   "execution_count": 11,
   "id": "2285e858",
   "metadata": {},
   "outputs": [
    {
     "name": "stdout",
     "output_type": "stream",
     "text": [
      "1980    118\n",
      "1981    118\n",
      "1982    118\n",
      "1983    118\n",
      "1984    118\n",
      "1985    119\n",
      "1986    119\n",
      "1987    119\n",
      "1988    119\n",
      "1989    119\n",
      "1990    120\n",
      "1991    149\n",
      "1992    149\n",
      "1993    149\n",
      "1994    149\n",
      "1995    149\n",
      "1996    149\n",
      "1997    149\n",
      "1998    149\n",
      "1999    149\n",
      "2000    149\n",
      "2001    149\n",
      "2002    149\n",
      "2003    149\n",
      "2004    149\n",
      "2005    149\n",
      "2006    149\n",
      "2007    149\n",
      "2008    149\n",
      "2009    149\n",
      "2010    149\n",
      "2011    149\n",
      "2012    149\n",
      "2013    149\n",
      "2014    149\n",
      "Name: Year, dtype: int64\n"
     ]
    }
   ],
   "source": [
    "print(wide_indicators[wide_indicators['per_employed_gdp_ppp_1990$'].notna()]['Year'].value_counts().sort_index())"
   ]
  },
  {
   "cell_type": "code",
   "execution_count": 12,
   "id": "3614cf60",
   "metadata": {},
   "outputs": [
    {
     "name": "stdout",
     "output_type": "stream",
     "text": [
      "2003     2\n",
      "2004     7\n",
      "2005     5\n",
      "2006    10\n",
      "2007    42\n",
      "2008    13\n",
      "2009     5\n",
      "2010    11\n",
      "2011    11\n",
      "2012    51\n",
      "2013     9\n",
      "2014     2\n",
      "Name: Year, dtype: int64\n"
     ]
    }
   ],
   "source": [
    "print(wide_indicators[wide_indicators['per_capita_consumption_2011$'].notna()]['Year'].value_counts().sort_index())"
   ]
  },
  {
   "cell_type": "code",
   "execution_count": 13,
   "id": "331585b5",
   "metadata": {},
   "outputs": [
    {
     "name": "stdout",
     "output_type": "stream",
     "text": [
      "1960    244\n",
      "1961    244\n",
      "1962    244\n",
      "1963    244\n",
      "1964    244\n",
      "1965    244\n",
      "1966    244\n",
      "1967    244\n",
      "1968    244\n",
      "1969    244\n",
      "1970    244\n",
      "1971    244\n",
      "1972    244\n",
      "1973    244\n",
      "1974    244\n",
      "1975    244\n",
      "1976    244\n",
      "1977    244\n",
      "1978    244\n",
      "1979    244\n",
      "1980    244\n",
      "1981    244\n",
      "1982    244\n",
      "1983    244\n",
      "1984    244\n",
      "1985    244\n",
      "1986    244\n",
      "1987    244\n",
      "1988    244\n",
      "1989    244\n",
      "1990    246\n",
      "1991    246\n",
      "1992    245\n",
      "1993    245\n",
      "1994    245\n",
      "1995    246\n",
      "1996    246\n",
      "1997    246\n",
      "1998    247\n",
      "1999    247\n",
      "2000    247\n",
      "2001    247\n",
      "2002    247\n",
      "2003    247\n",
      "2004    247\n",
      "2005    247\n",
      "2006    247\n",
      "2007    247\n",
      "2008    247\n",
      "2009    247\n",
      "2010    247\n",
      "2011    247\n",
      "2012    247\n",
      "2013    247\n",
      "2014    247\n",
      "Name: Year, dtype: int64\n"
     ]
    }
   ],
   "source": [
    "print(wide_indicators[wide_indicators['total_population'].notna()]['Year'].value_counts().sort_index())"
   ]
  },
  {
   "cell_type": "markdown",
   "id": "10b5cb9f",
   "metadata": {},
   "source": [
    "Given the above, it seems that, first, the survey-based consumption statistics are not available in enough countries in enough years to be worth using; the per-capita GDP numbers are much more useful because they are more available. Second, only in 2002 and 2013 does it apepar that a large fraction of entities with per-capita GDP data also have water consumption data, therefore only these two dates are feasible for analysis. Thus, a bit more cleaning is needed to get rid of the consumption statistics, since those aren't useful, and to eliminate data for years other than 2002 and 2013. Additionally, even in the case of those years rows with null data in any of the three remaining variable columns should be dropped, as no useful analysis can be carried out on them. Finally, the CountryCode and Year columns should be renamed as well, to have the same format as the other columns."
   ]
  },
  {
   "cell_type": "code",
   "execution_count": 14,
   "id": "fe047a95",
   "metadata": {},
   "outputs": [
    {
     "name": "stdout",
     "output_type": "stream",
     "text": [
      "<class 'pandas.core.frame.DataFrame'>\n",
      "Int64Index: 239 entries, 252 to 731\n",
      "Data columns (total 5 columns):\n",
      " #   Column                      Non-Null Count  Dtype  \n",
      "---  ------                      --------------  -----  \n",
      " 0   country                     239 non-null    object \n",
      " 1   year                        239 non-null    int64  \n",
      " 2   freshwater_withdrawals_m3   239 non-null    float64\n",
      " 3   per_employed_gdp_ppp_1990$  239 non-null    float64\n",
      " 4   total_population            239 non-null    float64\n",
      "dtypes: float64(3), int64(1), object(1)\n",
      "memory usage: 11.2+ KB\n",
      "None\n",
      "<class 'pandas.core.frame.DataFrame'>\n",
      "Int64Index: 91 entries, 252 to 384\n",
      "Data columns (total 5 columns):\n",
      " #   Column                      Non-Null Count  Dtype  \n",
      "---  ------                      --------------  -----  \n",
      " 0   country                     91 non-null     object \n",
      " 1   year                        91 non-null     int64  \n",
      " 2   freshwater_withdrawals_m3   91 non-null     float64\n",
      " 3   per_employed_gdp_ppp_1990$  91 non-null     float64\n",
      " 4   total_population            91 non-null     float64\n",
      "dtypes: float64(3), int64(1), object(1)\n",
      "memory usage: 4.3+ KB\n",
      "None\n",
      "<class 'pandas.core.frame.DataFrame'>\n",
      "Int64Index: 148 entries, 520 to 731\n",
      "Data columns (total 5 columns):\n",
      " #   Column                      Non-Null Count  Dtype  \n",
      "---  ------                      --------------  -----  \n",
      " 0   country                     148 non-null    object \n",
      " 1   year                        148 non-null    int64  \n",
      " 2   freshwater_withdrawals_m3   148 non-null    float64\n",
      " 3   per_employed_gdp_ppp_1990$  148 non-null    float64\n",
      " 4   total_population            148 non-null    float64\n",
      "dtypes: float64(3), int64(1), object(1)\n",
      "memory usage: 6.9+ KB\n",
      "None\n"
     ]
    }
   ],
   "source": [
    "wide_indicators = wide_indicators.drop(columns=['per_capita_consumption_2011$'])\n",
    "wide_indicators = wide_indicators[(wide_indicators['Year'] == 2002) | (wide_indicators['Year'] == 2013)]\n",
    "wide_indicators = wide_indicators.dropna(how='any', axis=0)\n",
    "wide_indicators = wide_indicators.rename(columns={'CountryCode': 'country', 'Year': 'year'})\n",
    "\n",
    "print(wide_indicators.info())\n",
    "\n",
    "print(wide_indicators[wide_indicators['year'] == 2002].info())\n",
    "print(wide_indicators[wide_indicators['year'] == 2013].info())"
   ]
  },
  {
   "cell_type": "markdown",
   "id": "2008b29d",
   "metadata": {},
   "source": [
    "As I indicated at the beginning, what I am interested in is comparing the per-capita usage of water and the per-capita GDP. While the latter (or at least a reasonable approximation) is already present in the dataset, the former is merely implicit in having freshwater withdrawals and population for each country. Adding a column containing this information directly would make further analysis easier."
   ]
  },
  {
   "cell_type": "code",
   "execution_count": 15,
   "id": "698694fa",
   "metadata": {},
   "outputs": [
    {
     "name": "stdout",
     "output_type": "stream",
     "text": [
      "    country  year  freshwater_withdrawals_m3  per_employed_gdp_ppp_1990$  \\\n",
      "252     ALB  2002               1.838000e+09                     11456.0   \n",
      "253     DZA  2002               5.723000e+09                     13925.0   \n",
      "254     AGO  2002               6.405000e+08                      2386.0   \n",
      "256     ARM  2002               1.733000e+09                     14758.0   \n",
      "257     AUS  2002               2.258000e+10                     48565.0   \n",
      "\n",
      "     total_population  per_capita_water_m3  \n",
      "252         3051010.0           602.423460  \n",
      "253        31990387.0           178.897492  \n",
      "254        16109696.0            39.758665  \n",
      "256         3047249.0           568.709679  \n",
      "257        19651400.0          1149.027550  \n"
     ]
    }
   ],
   "source": [
    "wide_indicators['per_capita_water_m3'] = wide_indicators['freshwater_withdrawals_m3'] / wide_indicators['total_population']\n",
    "\n",
    "print(wide_indicators.head())"
   ]
  },
  {
   "cell_type": "markdown",
   "id": "d20408f3",
   "metadata": {},
   "source": [
    "A final issue, as mentioned previously, is that some of the \"countries\" included in both datasets, especially the 2013 dataset, are not really countries at all, but rather multinational conglomerations. For example, there are country codes for \"the Arab World\" (ARB) and \"Euro area\" (EMU). While analyzing these might also be interesting, they are clearly different from the other countries and ought to be separated from data on individual countries. The actual regional codes are:\n",
    "* ARB, the Arab World;\n",
    "* CSS, Caribbean small states;\n",
    "* CEB, Central Europe and the Baltics;\n",
    "* EAS, East Asia and Pacific (all incomes);\n",
    "* EAP, East Asia and Pacific (developing only);\n",
    "* EMU, Euro are;\n",
    "* ECS, Europe and Central Asia (all incomes);\n",
    "* ECA, Europe and Central Asia (developing only);\n",
    "* EUU, European Union;\n",
    "* FCS, Fragile and conflict-afflicted situations;\n",
    "* HPC, Heavily-indebted poor countries;\n",
    "* HIC, High-income countries;\n",
    "* NOC, High-income non-OECD countries;\n",
    "* OEC, High-income OECD countries;\n",
    "* LCN, Latin America and Caribbean (all incomes);\n",
    "* LAC, Latin America and Caribbean (developing only);\n",
    "* LDC, Least developed countries;\n",
    "* LMY, Low and middle income;\n",
    "* LIC, Low-income countries;\n",
    "* LMC, Lower-middle income countries;\n",
    "* MEA, Middle East and North Africa (all incomes);\n",
    "* MNA, Middle East and North Africa (developing only);\n",
    "* MIC, Middle-income countries;\n",
    "* NAC, North America;\n",
    "* OED, OECD members;\n",
    "* OSS, Other small states;\n",
    "* PSS, Pacific island small states;\n",
    "* SAS, South Asia;\n",
    "* SSF, Sub-Saharan Africa (all incomes);\n",
    "* SSA, Sub-Saharan Africa (developing only);\n",
    "* UMC, Upper-middle income countries; and\n",
    "* WLD, the world as a whole."
   ]
  },
  {
   "cell_type": "code",
   "execution_count": 16,
   "id": "89b95d4f",
   "metadata": {},
   "outputs": [],
   "source": [
    "non_country_codes = [\"ARB\", \"CSS\", \"CEB\", \"EAS\", \"EAS\", \"EAP\", \"EMU\", \"ECS\", \"ECA\", \"EUU\", \"FCS\", \"HPC\", \"HIC\", \"NOC\", \"OEC\", \"LCN\", \"LAC\", \"LDC\", \"LMY\", \"LIC\", \"LMC\", \"MEA\", \"MNA\", \"MIC\", \"NAC\", \"OED\", \"OSS\", \"PSS\", 'SAS', \"SSF\", \"SSA\", \"UMC\", \"WLD\"]\n",
    "\n",
    "supranational_indicators = wide_indicators[wide_indicators['country'].isin(non_country_codes)]\n",
    "national_indicators = wide_indicators[-wide_indicators['country'].isin(non_country_codes)]"
   ]
  },
  {
   "cell_type": "code",
   "execution_count": 17,
   "id": "7fe80a12",
   "metadata": {},
   "outputs": [
    {
     "name": "stdout",
     "output_type": "stream",
     "text": [
      "<class 'pandas.core.frame.DataFrame'>\n",
      "Int64Index: 28 entries, 520 to 551\n",
      "Data columns (total 6 columns):\n",
      " #   Column                      Non-Null Count  Dtype  \n",
      "---  ------                      --------------  -----  \n",
      " 0   country                     28 non-null     object \n",
      " 1   year                        28 non-null     int64  \n",
      " 2   freshwater_withdrawals_m3   28 non-null     float64\n",
      " 3   per_employed_gdp_ppp_1990$  28 non-null     float64\n",
      " 4   total_population            28 non-null     float64\n",
      " 5   per_capita_water_m3         28 non-null     float64\n",
      "dtypes: float64(4), int64(1), object(1)\n",
      "memory usage: 1.5+ KB\n",
      "None\n",
      "<class 'pandas.core.frame.DataFrame'>\n",
      "Int64Index: 211 entries, 252 to 731\n",
      "Data columns (total 6 columns):\n",
      " #   Column                      Non-Null Count  Dtype  \n",
      "---  ------                      --------------  -----  \n",
      " 0   country                     211 non-null    object \n",
      " 1   year                        211 non-null    int64  \n",
      " 2   freshwater_withdrawals_m3   211 non-null    float64\n",
      " 3   per_employed_gdp_ppp_1990$  211 non-null    float64\n",
      " 4   total_population            211 non-null    float64\n",
      " 5   per_capita_water_m3         211 non-null    float64\n",
      "dtypes: float64(4), int64(1), object(1)\n",
      "memory usage: 11.5+ KB\n",
      "None\n"
     ]
    }
   ],
   "source": [
    "print(supranational_indicators.info())\n",
    "print(national_indicators.info())"
   ]
  },
  {
   "cell_type": "markdown",
   "id": "9cc5a76e",
   "metadata": {},
   "source": [
    "Now that the data has been cleaned and the per-capita water usage has been calculated, the actual analysis is straightforward. I only need to plot per-capita water usage versus GDP per employed person to see if the relationship I proposed holds true or not:"
   ]
  },
  {
   "cell_type": "code",
   "execution_count": 18,
   "id": "857d46f3",
   "metadata": {},
   "outputs": [
    {
     "data": {
      "image/png": "[encoded data removed]",
      "text/plain": [
       "<Figure size 720x360 with 2 Axes>"
      ]
     },
     "metadata": {},
     "output_type": "display_data"
    }
   ],
   "source": [
    "sns.set_theme()\n",
    "\n",
    "plot = sns.relplot(data=national_indicators, x='per_employed_gdp_ppp_1990$', y='per_capita_water_m3', col='year')\n",
    "plot.set_xlabels('GDP per employed person, PPP-adjusted 1990$')\n",
    "plot.set_ylabels('Freshwater withdrawals per inhabitant, m3')\n",
    "plt.show()"
   ]
  },
  {
   "cell_type": "markdown",
   "id": "a72dcb8b",
   "metadata": {},
   "source": [
    "This shows some weak evidence for my hypothesis; there does appear to be a *slight* bell shape, particularly with 2013. However, this relationship is obviously quite weak, and there are a number of clear exceptions. In particular, there are a number of countries with low GDPs per employed person with high water withdrawals, especially in 2002. It might be worth looking at these countries more closely:"
   ]
  },
  {
   "cell_type": "code",
   "execution_count": 19,
   "id": "2f309f87",
   "metadata": {},
   "outputs": [
    {
     "name": "stdout",
     "output_type": "stream",
     "text": [
      "    country  year  per_employed_gdp_ppp_1990$  per_capita_water_m3\n",
      "309     IRQ  2002                      6959.0          2645.948834\n",
      "316     KGZ  2002                      5983.0          2019.756748\n",
      "367     TJK  2002                      3736.0          1866.848731\n",
      "373     TKM  2002                      5425.0          5415.014917\n",
      "379     UZB  2002                      9951.0          2397.133570\n",
      "628     IRQ  2013                     10093.0          1953.738723\n",
      "718     TKM  2013                     11834.0          5333.879889\n"
     ]
    }
   ],
   "source": [
    "high_withdrawals_low_GDP = national_indicators[(national_indicators['per_employed_gdp_ppp_1990$'] < 15000)\n",
    "                                               & (national_indicators['per_capita_water_m3'] > 1500)]\n",
    "\n",
    "print(high_withdrawals_low_GDP[['country', 'year', 'per_employed_gdp_ppp_1990$', 'per_capita_water_m3']])"
   ]
  },
  {
   "cell_type": "markdown",
   "id": "cdc203b8",
   "metadata": {},
   "source": [
    "Only five countries fit into this group: Iraq (IRQ), Kyrgyzstan (KGZ), Tajikistan (TJK), Turkmenistan (TKM), and Uzbekistan (UZB). Except for Iraq, all of these countries are located in Central Asia, where the Soviet Union built large irrigation projects in the 1960s and 1970s to grow cash crops such as cotton. These projects have diverted so much of the flow of the Amu Darya and Syr Darya rivers that the Aral Sea, formerly one of the largest lakes in the world, has almost entirely dried up. This background helps explain the disparity with my hypothesis, since the Soviet Union as a whole was relatively richer than the Central Asian republics, and could therefore afford to build costlier and more extensive water diversion infrastructure than those republics could on their own. Something similar may hold true in the case of Iraq, where oil profits in the 1970s or 1980s might have enabled the construction of extensive water infrastructure, whereas the sanctions of the 1990s and the civil war of the 2000s led to declines in GDP.\n",
    "\n",
    "Besides these outliers, another outlier that stands out to me is the one country with an unusually high GDP, $60 000 or more, and moderately high water consumption, about 1500-2000 cubic meters per person."
   ]
  },
  {
   "cell_type": "code",
   "execution_count": 20,
   "id": "0fa19993",
   "metadata": {},
   "outputs": [
    {
     "name": "stdout",
     "output_type": "stream",
     "text": [
      "    country  year  per_employed_gdp_ppp_1990$  per_capita_water_m3  \\\n",
      "377     USA  2002                     60200.0          1645.891986   \n",
      "723     USA  2013                     69643.0          1511.544177   \n",
      "\n",
      "     freshwater_withdrawals_m3  \n",
      "377               4.734000e+11  \n",
      "723               4.784000e+11  \n"
     ]
    }
   ],
   "source": [
    "rich_outlier = national_indicators[(national_indicators['per_employed_gdp_ppp_1990$'] > 55000)\n",
    "                                               & (national_indicators['per_capita_water_m3'] > 1500)]\n",
    "\n",
    "print(rich_outlier[['country', 'year', 'per_employed_gdp_ppp_1990$', 'per_capita_water_m3', 'freshwater_withdrawals_m3']])"
   ]
  },
  {
   "cell_type": "markdown",
   "id": "7c261b67",
   "metadata": {},
   "source": [
    "Not entirely surprisingly, this turns out to be the United States, which is consistently one of the richest countries in the world in terms of per-capita GDP and which does have a considerable amount of water-hungry agriculture in the Great Plains and Southwest that probably accounts for its high water consumption levels.\n",
    "\n",
    "A final outlier of interest is the one with a moderate GDP (of about $30-40 000) and relatively high water withdrawals, similar to those of the United States:"
   ]
  },
  {
   "cell_type": "code",
   "execution_count": 21,
   "id": "1ac03f31",
   "metadata": {},
   "outputs": [
    {
     "name": "stdout",
     "output_type": "stream",
     "text": [
      "    country  year  per_employed_gdp_ppp_1990$  per_capita_water_m3\n",
      "273     CHL  2002                     30823.0          1586.407690\n",
      "377     USA  2002                     60200.0          1645.891986\n",
      "584     CHL  2013                     38207.0          2015.836177\n",
      "723     USA  2013                     69643.0          1511.544177\n"
     ]
    }
   ],
   "source": [
    "middle_income_outlier = national_indicators[(national_indicators['per_employed_gdp_ppp_1990$'] > 30000)\n",
    "                                               & (national_indicators['per_capita_water_m3'] > 1500)]\n",
    "\n",
    "print(middle_income_outlier[['country', 'year', 'per_employed_gdp_ppp_1990$', 'per_capita_water_m3']])"
   ]
  },
  {
   "cell_type": "markdown",
   "id": "74fa1e93",
   "metadata": {},
   "source": [
    "This seems to be Chile, which surprises me. Perhaps this is related to Chile's control of both extensive deserts in its north and large well-watered areas in the south, but unlike with Central Asia or the United States there is no obvious explanation that I can see.\n",
    "\n",
    "An additional interesting analysis might be to include regional information in the previous plots, to see at a quick glance whether there might be some kind of regional patterns (such as the Central Asian nations having unusually high water usage). Using the United Nations Statistical Division's geoscheme,"
   ]
  },
  {
   "cell_type": "code",
   "execution_count": 22,
   "id": "ff60a8f1",
   "metadata": {},
   "outputs": [],
   "source": [
    "north_america = ['USA', 'CAN', 'BMU', 'GRL']\n",
    "central_america = ['BLZ', 'CRI', 'SLV', 'GTM', 'HND', 'MEX', 'NIC', 'PAN']\n",
    "caribbean = ['ATG', 'ABW', 'BHS', 'BRB', 'VIR', 'CYM', 'CUB', 'CUW', 'DMA', 'DOM', 'GRD', 'HTI',\n",
    "             'JAM', 'PRI', 'KNA', 'LCA', 'MAF', 'VCT', 'SXM', 'VCT', 'TTO', 'TCA']\n",
    "south_america = ['ARG', 'BOL', 'BRA', 'CHL', 'COL', 'ECU', 'GUY', 'PRY', 'PER', 'SUR', 'URY', 'VEN']\n",
    "\n",
    "north_africa = ['DZA', 'EGY', 'LBY', 'MAR', 'SDN', 'TUN']\n",
    "east_africa = ['BDI', 'COM', 'DJI', 'ERI', 'ETH', 'KEN', 'MDG', 'MWI', 'MUS', 'MOZ', 'RWA', 'SYC',\n",
    "               'SOM', 'SSD', 'UGA', 'TZA', 'ZMB', 'ZWE']\n",
    "central_africa = ['AGO', 'CMR', 'CAF', 'TCD', 'COG', 'ZAR', 'GNQ', 'GAB', 'STP']\n",
    "south_africa = ['BWA', 'SWZ', 'LSO', 'NAM', 'ZAF']\n",
    "west_africa = ['BEN', 'BFA', 'CPV', 'CIV', 'GMB', 'GHA', 'GIN', 'GNB', 'LBR','MLI', 'MRT', 'NER',\n",
    "               'NGA', 'SEN', 'SLE', 'TGO']\n",
    "\n",
    "central_asia = ['KAZ', 'KGZ', 'TJK', 'TKM', 'UZB']\n",
    "east_asia = ['CHN', 'HKG', 'MAC', 'PRK', 'KOR', 'JPN', 'MNG']\n",
    "south_east_asia = ['BRN', 'KHM', 'LAO', 'IDN', 'MYS', 'MMR', 'PHL', 'SGP', 'THA', 'TMP', 'VNM']\n",
    "south_asia = ['AFG', 'BGD', 'BTN', 'IND', 'IRN', 'MDV', 'NPL', 'PAK', 'LKA']\n",
    "west_asia = ['ARM', 'AZE', 'BHR', 'CYP', 'GEO', 'IRQ', 'ISR', 'JOR', 'KWT', 'LBN', 'OMN', 'QAT',\n",
    "             'SAU', 'SYR', 'TUR', 'ARE', 'YEM']\n",
    "\n",
    "east_europe = ['BLR', 'BGR', 'CZE', 'HUN', 'POL', 'MDA', 'ROM', 'RUS', 'SVK', 'UKR']\n",
    "north_europe = ['DNK', 'EST', 'FRO', 'FIN', 'ISL', 'IRL', 'IMY', 'LVA', 'LTU', 'NOR', 'SWE', 'GBR', 'CHI']\n",
    "south_europe = ['ALB', 'ADO', 'BIH', 'HRV', 'GRC', 'ITA', 'MLT', 'MNE', 'MKD', 'PRT', 'SMR', 'SRB',\n",
    "                'SVN', 'ESP']\n",
    "west_europe = ['AUT', 'BEL', 'FRA', 'DEU', 'LIE', 'LUX', 'MCO', 'NLD', 'CHE']\n",
    "\n",
    "aus_nz = ['AUS', 'NZL']\n",
    "melanesia = ['FJI', 'NCL', 'PNG', 'SLB', 'VUT']\n",
    "micronesia = ['GUM', 'KIR', 'MHL', 'FSM', 'MNP', 'PLW']\n",
    "polynesia = ['ASM', 'PYF', 'WSM', 'TON', 'TUV']\n",
    "\n",
    "americas = north_america + central_america + caribbean + south_america\n",
    "africa = north_africa + east_africa + central_africa + south_africa + west_africa\n",
    "asia = central_asia + east_asia + south_east_asia + south_asia + west_asia\n",
    "europe = east_europe + north_europe + south_europe + west_europe\n",
    "oceania = aus_nz + melanesia + micronesia + polynesia\n",
    "\n",
    "mena = west_asia + north_africa + ['IRN']\n",
    "ssa = east_africa + central_africa + south_africa + west_africa\n",
    "no_mena_asia = central_asia + east_asia + south_east_asia + south_asia\n",
    "no_mena_asia.remove('IRN')"
   ]
  },
  {
   "cell_type": "code",
   "execution_count": 23,
   "id": "df3bb72a",
   "metadata": {},
   "outputs": [
    {
     "name": "stderr",
     "output_type": "stream",
     "text": [
      "/var/folders/gv/bxwlxsrx531b45cbk07y7zmr0000gn/T/ipykernel_1593/3070854617.py:17: SettingWithCopyWarning: \n",
      "A value is trying to be set on a copy of a slice from a DataFrame.\n",
      "Try using .loc[row_indexer,col_indexer] = value instead\n",
      "\n",
      "See the caveats in the documentation: https://pandas.pydata.org/pandas-docs/stable/user_guide/indexing.html#returning-a-view-versus-a-copy\n",
      "  national_indicators['region'] = national_indicators['country'].map(what_region_am_i)\n"
     ]
    },
    {
     "data": {
      "text/html": [
       "<div>\n",
       "<style scoped>\n",
       "    .dataframe tbody tr th:only-of-type {\n",
       "        vertical-align: middle;\n",
       "    }\n",
       "\n",
       "    .dataframe tbody tr th {\n",
       "        vertical-align: top;\n",
       "    }\n",
       "\n",
       "    .dataframe thead th {\n",
       "        text-align: right;\n",
       "    }\n",
       "</style>\n",
       "<table border=\"1\" class=\"dataframe\">\n",
       "  <thead>\n",
       "    <tr style=\"text-align: right;\">\n",
       "      <th></th>\n",
       "      <th>country</th>\n",
       "      <th>year</th>\n",
       "      <th>freshwater_withdrawals_m3</th>\n",
       "      <th>per_employed_gdp_ppp_1990$</th>\n",
       "      <th>total_population</th>\n",
       "      <th>per_capita_water_m3</th>\n",
       "      <th>region</th>\n",
       "    </tr>\n",
       "  </thead>\n",
       "  <tbody>\n",
       "    <tr>\n",
       "      <th>252</th>\n",
       "      <td>ALB</td>\n",
       "      <td>2002</td>\n",
       "      <td>1.838000e+09</td>\n",
       "      <td>11456.0</td>\n",
       "      <td>3051010.0</td>\n",
       "      <td>602.423460</td>\n",
       "      <td>Europe</td>\n",
       "    </tr>\n",
       "    <tr>\n",
       "      <th>253</th>\n",
       "      <td>DZA</td>\n",
       "      <td>2002</td>\n",
       "      <td>5.723000e+09</td>\n",
       "      <td>13925.0</td>\n",
       "      <td>31990387.0</td>\n",
       "      <td>178.897492</td>\n",
       "      <td>Middle East-North Africa</td>\n",
       "    </tr>\n",
       "    <tr>\n",
       "      <th>254</th>\n",
       "      <td>AGO</td>\n",
       "      <td>2002</td>\n",
       "      <td>6.405000e+08</td>\n",
       "      <td>2386.0</td>\n",
       "      <td>16109696.0</td>\n",
       "      <td>39.758665</td>\n",
       "      <td>Sub-Saharan Africa</td>\n",
       "    </tr>\n",
       "    <tr>\n",
       "      <th>256</th>\n",
       "      <td>ARM</td>\n",
       "      <td>2002</td>\n",
       "      <td>1.733000e+09</td>\n",
       "      <td>14758.0</td>\n",
       "      <td>3047249.0</td>\n",
       "      <td>568.709679</td>\n",
       "      <td>Middle East-North Africa</td>\n",
       "    </tr>\n",
       "    <tr>\n",
       "      <th>257</th>\n",
       "      <td>AUS</td>\n",
       "      <td>2002</td>\n",
       "      <td>2.258000e+10</td>\n",
       "      <td>48565.0</td>\n",
       "      <td>19651400.0</td>\n",
       "      <td>1149.027550</td>\n",
       "      <td>Oceania</td>\n",
       "    </tr>\n",
       "  </tbody>\n",
       "</table>\n",
       "</div>"
      ],
      "text/plain": [
       "    country  year  freshwater_withdrawals_m3  per_employed_gdp_ppp_1990$  \\\n",
       "252     ALB  2002               1.838000e+09                     11456.0   \n",
       "253     DZA  2002               5.723000e+09                     13925.0   \n",
       "254     AGO  2002               6.405000e+08                      2386.0   \n",
       "256     ARM  2002               1.733000e+09                     14758.0   \n",
       "257     AUS  2002               2.258000e+10                     48565.0   \n",
       "\n",
       "     total_population  per_capita_water_m3                    region  \n",
       "252         3051010.0           602.423460                    Europe  \n",
       "253        31990387.0           178.897492  Middle East-North Africa  \n",
       "254        16109696.0            39.758665        Sub-Saharan Africa  \n",
       "256         3047249.0           568.709679  Middle East-North Africa  \n",
       "257        19651400.0          1149.027550                   Oceania  "
      ]
     },
     "execution_count": 23,
     "metadata": {},
     "output_type": "execute_result"
    }
   ],
   "source": [
    "def what_region_am_i(country):\n",
    "    if country in americas:\n",
    "        return 'Americas'\n",
    "    elif country in ssa:\n",
    "        return 'Sub-Saharan Africa'\n",
    "    elif country in mena:\n",
    "        return 'Middle East-North Africa'\n",
    "    elif country in no_mena_asia:\n",
    "        return 'Asia'\n",
    "    elif country in europe:\n",
    "        return 'Europe'\n",
    "    elif country in oceania:\n",
    "        return 'Oceania'\n",
    "    else:\n",
    "        return None\n",
    "    \n",
    "national_indicators['region'] = national_indicators['country'].map(what_region_am_i)\n",
    "\n",
    "national_indicators.head()"
   ]
  },
  {
   "cell_type": "code",
   "execution_count": 24,
   "id": "5bceacac",
   "metadata": {},
   "outputs": [
    {
     "data": {
      "image/png": "[encoded data removed]",
      "text/plain": [
       "<Figure size 885.975x360 with 2 Axes>"
      ]
     },
     "metadata": {},
     "output_type": "display_data"
    }
   ],
   "source": [
    "plot = sns.relplot(data=national_indicators, x='per_employed_gdp_ppp_1990$', y='per_capita_water_m3',\n",
    "                   hue='region', size='freshwater_withdrawals_m3', sizes=(20, 400), col='year')\n",
    "plot.set_xlabels('GDP per employed person, PPP-adjusted 1990$')\n",
    "plot.set_ylabels('Freshwater withdrawals per inhabitant, m3')\n",
    "\n",
    "plot._legend.texts[7].set_text('Total withdrawals, m3')\n",
    "plot._legend.texts[8].set_text('150 billion')\n",
    "plot._legend.texts[9].set_text('300 billion')\n",
    "plot._legend.texts[10].set_text('450 billion')\n",
    "plot._legend.texts[11].set_text('600 billion')\n",
    "plot._legend.texts[12].set_text('750 billion')\n",
    "\n",
    "plt.show()"
   ]
  },
  {
   "cell_type": "markdown",
   "id": "4132aace",
   "metadata": {},
   "source": [
    "Two things are evident from this plot. First, the regional information, perhaps unsurprisingly, correlates with the GDP information: virtually all sub-saharan African states (SSA) are clustered in the lower left-hand corner of the plot, whereas European nations, while somewhat spread out, are largely farther to the right. Second, there are some apparent changes that were not apparent from the earlier plot, for example an Asian country seems to have greatly increased its total withdrawals between 2002 and 2013 as there is only one large withdrawer in the former year and two in the latter year. Nevertheless, these don't change the thrust of the results.\n",
    "\n",
    "To wrap up the analysis entirely, it would be interesting to calculate the correlation between GDP per employed person and per-capita freshwater withdrawals. Based on the above plots, I expect this value to be positive but small, as the usual Pearson's coefficient measures *linear* relationships between two variables; that is, one goes up and the other goes up. Here the relationship seems to be one of GDP going up, water withdrawals going up to a point, then leveling off or declining."
   ]
  },
  {
   "cell_type": "code",
   "execution_count": 25,
   "id": "05f489ca",
   "metadata": {},
   "outputs": [
    {
     "data": {
      "text/html": [
       "<div>\n",
       "<style scoped>\n",
       "    .dataframe tbody tr th:only-of-type {\n",
       "        vertical-align: middle;\n",
       "    }\n",
       "\n",
       "    .dataframe tbody tr th {\n",
       "        vertical-align: top;\n",
       "    }\n",
       "\n",
       "    .dataframe thead th {\n",
       "        text-align: right;\n",
       "    }\n",
       "</style>\n",
       "<table border=\"1\" class=\"dataframe\">\n",
       "  <thead>\n",
       "    <tr style=\"text-align: right;\">\n",
       "      <th></th>\n",
       "      <th>year</th>\n",
       "      <th>freshwater_withdrawals_m3</th>\n",
       "      <th>per_employed_gdp_ppp_1990$</th>\n",
       "      <th>total_population</th>\n",
       "      <th>per_capita_water_m3</th>\n",
       "    </tr>\n",
       "  </thead>\n",
       "  <tbody>\n",
       "    <tr>\n",
       "      <th>year</th>\n",
       "      <td>1.000000</td>\n",
       "      <td>0.020885</td>\n",
       "      <td>0.069322</td>\n",
       "      <td>0.047779</td>\n",
       "      <td>-0.072813</td>\n",
       "    </tr>\n",
       "    <tr>\n",
       "      <th>freshwater_withdrawals_m3</th>\n",
       "      <td>0.020885</td>\n",
       "      <td>1.000000</td>\n",
       "      <td>0.030824</td>\n",
       "      <td>0.910838</td>\n",
       "      <td>0.162576</td>\n",
       "    </tr>\n",
       "    <tr>\n",
       "      <th>per_employed_gdp_ppp_1990$</th>\n",
       "      <td>0.069322</td>\n",
       "      <td>0.030824</td>\n",
       "      <td>1.000000</td>\n",
       "      <td>-0.082229</td>\n",
       "      <td>0.025319</td>\n",
       "    </tr>\n",
       "    <tr>\n",
       "      <th>total_population</th>\n",
       "      <td>0.047779</td>\n",
       "      <td>0.910838</td>\n",
       "      <td>-0.082229</td>\n",
       "      <td>1.000000</td>\n",
       "      <td>0.006902</td>\n",
       "    </tr>\n",
       "    <tr>\n",
       "      <th>per_capita_water_m3</th>\n",
       "      <td>-0.072813</td>\n",
       "      <td>0.162576</td>\n",
       "      <td>0.025319</td>\n",
       "      <td>0.006902</td>\n",
       "      <td>1.000000</td>\n",
       "    </tr>\n",
       "  </tbody>\n",
       "</table>\n",
       "</div>"
      ],
      "text/plain": [
       "                                year  freshwater_withdrawals_m3  \\\n",
       "year                        1.000000                   0.020885   \n",
       "freshwater_withdrawals_m3   0.020885                   1.000000   \n",
       "per_employed_gdp_ppp_1990$  0.069322                   0.030824   \n",
       "total_population            0.047779                   0.910838   \n",
       "per_capita_water_m3        -0.072813                   0.162576   \n",
       "\n",
       "                            per_employed_gdp_ppp_1990$  total_population  \\\n",
       "year                                          0.069322          0.047779   \n",
       "freshwater_withdrawals_m3                     0.030824          0.910838   \n",
       "per_employed_gdp_ppp_1990$                    1.000000         -0.082229   \n",
       "total_population                             -0.082229          1.000000   \n",
       "per_capita_water_m3                           0.025319          0.006902   \n",
       "\n",
       "                            per_capita_water_m3  \n",
       "year                                  -0.072813  \n",
       "freshwater_withdrawals_m3              0.162576  \n",
       "per_employed_gdp_ppp_1990$             0.025319  \n",
       "total_population                       0.006902  \n",
       "per_capita_water_m3                    1.000000  "
      ]
     },
     "execution_count": 25,
     "metadata": {},
     "output_type": "execute_result"
    }
   ],
   "source": [
    "national_indicators.corr()"
   ]
  },
  {
   "cell_type": "markdown",
   "id": "1105e1ab",
   "metadata": {},
   "source": [
    "Indeed, the per_employed_gdp_pp_1990$ and per_capita_water_m3 columns have a correlation coefficient of about 0.025, indicating a very slight, indeed practically nonexistent, relationship between the two, at least in linear terms. The correlations of the various columns indeed seem to be quite weak in general, except for that between total population and total freshwater withdrawals (as might be expected).\n",
    "\n",
    "What I conclude from this analysis is that, first, the hypothesis that per-capita water usage increases with income up to a certain point, then declines, is not ruled out by the data, and indeed appears to have some weak support. It is not possible to say that it is definitively the case from this analysis, but it appears more likely than not that something like that hypothesis is the case. The Central Asian outliers in particular seem to lend some support to this hypothesis, since the reason for their high withdrawals rates is infrastructure built during a period when they were part of a relatively richer country.\n",
    "\n",
    "Further research would ideally start with assembling a more thorough dataset and correcting for methodological differences between countries in measuring GDP and freshwater withdrawals. Having data for more years and incorporating more countries is very important for determining how robust these results are, as well as correcting for the difficulty of directly comparing statistics between countries noted by the World Bank in the original dataset. This might also allow robust fitting of different models to the observed data, to determine what precise shape the curve linking per-capita GDP with per-capita water usage has. Another analysis of interest might be to turn to time-series information and track the movement of individual countries across the plot. This can already be done to a limited extent, for example it is clear that Chile increased in wealth and water consumption per-capita between 2002 and 2013, whereas Iraq became richer but saw its per-capita water usage decline in the same period. But if this could be extended to additional times, it might be possible to trace the movement of countries or cohorts of countries and identify the shape of the relationship curve in a completely different way."
   ]
  }
 ],
 "metadata": {
  "kernelspec": {
   "display_name": "Python 3 (ipykernel)",
   "language": "python",
   "name": "python3"
  },
  "language_info": {
   "codemirror_mode": {
    "name": "ipython",
    "version": 3
   },
   "file_extension": ".py",
   "mimetype": "text/x-python",
   "name": "python",
   "nbconvert_exporter": "python",
   "pygments_lexer": "ipython3",
   "version": "3.9.12"
  }
 },
 "nbformat": 4,
 "nbformat_minor": 5
}
